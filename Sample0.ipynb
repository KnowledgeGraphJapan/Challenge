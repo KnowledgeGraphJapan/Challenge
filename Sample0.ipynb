{
  "nbformat": 4,
  "nbformat_minor": 0,
  "metadata": {
    "colab": {
      "name": "Sample0.ipynb",
      "provenance": []
    },
    "kernelspec": {
      "name": "python3",
      "display_name": "Python 3"
    },
    "language_info": {
      "name": "python"
    }
  },
  "cells": [
    {
      "cell_type": "markdown",
      "source": [
        "rdflib のインストールとインポート"
      ],
      "metadata": {
        "id": "tx6YNeH6-3Tn"
      }
    },
    {
      "cell_type": "code",
      "execution_count": null,
      "metadata": {
        "colab": {
          "base_uri": "https://localhost:8080/"
        },
        "id": "Ee0w7XQ58Czb",
        "outputId": "da4fd4fd-c604-4d49-bdcb-6adfa9a188a5"
      },
      "outputs": [
        {
          "output_type": "stream",
          "name": "stdout",
          "text": [
            "Looking in indexes: https://pypi.org/simple, https://us-python.pkg.dev/colab-wheels/public/simple/\n",
            "Collecting rdflib\n",
            "  Downloading rdflib-6.2.0-py3-none-any.whl (500 kB)\n",
            "\u001b[K     |████████████████████████████████| 500 kB 7.3 MB/s \n",
            "\u001b[?25hRequirement already satisfied: pyparsing in /usr/local/lib/python3.7/dist-packages (from rdflib) (3.0.9)\n",
            "Requirement already satisfied: setuptools in /usr/local/lib/python3.7/dist-packages (from rdflib) (57.4.0)\n",
            "Requirement already satisfied: importlib-metadata in /usr/local/lib/python3.7/dist-packages (from rdflib) (4.12.0)\n",
            "Collecting isodate\n",
            "  Downloading isodate-0.6.1-py2.py3-none-any.whl (41 kB)\n",
            "\u001b[K     |████████████████████████████████| 41 kB 753 kB/s \n",
            "\u001b[?25hRequirement already satisfied: typing-extensions>=3.6.4 in /usr/local/lib/python3.7/dist-packages (from importlib-metadata->rdflib) (4.1.1)\n",
            "Requirement already satisfied: zipp>=0.5 in /usr/local/lib/python3.7/dist-packages (from importlib-metadata->rdflib) (3.8.1)\n",
            "Requirement already satisfied: six in /usr/local/lib/python3.7/dist-packages (from isodate->rdflib) (1.15.0)\n",
            "Installing collected packages: isodate, rdflib\n",
            "Successfully installed isodate-0.6.1 rdflib-6.2.0\n"
          ]
        }
      ],
      "source": [
        "!pip install rdflib\n",
        "import rdflib"
      ]
    },
    {
      "cell_type": "markdown",
      "source": [
        "サンプルSPARQLの実行と結果の出力：｢インターネットをブラウズする」というアクティ\n",
        "ビティ中のイベントを取得する"
      ],
      "metadata": {
        "id": "GHLhVJrO_HRm"
      }
    },
    {
      "cell_type": "code",
      "source": [
        "g = rdflib.Graph()\n",
        "qres = g.query(\n",
        "    \"\"\"\n",
        "PREFIX ex: <http://example.org/virtualhome2kg/instance/>\n",
        "PREFIX vh2kg: <http://example.org/virtualhome2kg/ontology/>\n",
        "select DISTINCT * where  {\n",
        "      SERVICE <http://kgrc4si.ml:7200/repositories/KGRC4SIv0> {\n",
        "        ex:browse_internet_scene1 vh2kg:hasEvent ?event .\n",
        "        ?event vh2kg:action ?action .\n",
        "      }\n",
        "}\n",
        "    \"\"\"\n",
        ")\n",
        "\n",
        "for row in qres:\n",
        "    print(row.event + \"\\t\" +  row.action)"
      ],
      "metadata": {
        "colab": {
          "base_uri": "https://localhost:8080/"
        },
        "id": "vzoUSu5P8umu",
        "outputId": "949eb96f-5126-4758-cb1b-f74356359132"
      },
      "execution_count": null,
      "outputs": [
        {
          "output_type": "stream",
          "name": "stdout",
          "text": [
            "http://example.org/virtualhome2kg/instance/event0_browse_internet_scene1\thttp://example.org/virtualhome2kg/ontology/action/walk\n",
            "http://example.org/virtualhome2kg/instance/event1_browse_internet_scene1\thttp://example.org/virtualhome2kg/ontology/action/walk\n",
            "http://example.org/virtualhome2kg/instance/event2_browse_internet_scene1\thttp://example.org/virtualhome2kg/ontology/action/switchOn\n",
            "http://example.org/virtualhome2kg/instance/event3_browse_internet_scene1\thttp://example.org/virtualhome2kg/ontology/action/walk\n",
            "http://example.org/virtualhome2kg/instance/event4_browse_internet_scene1\thttp://example.org/virtualhome2kg/ontology/action/sit\n"
          ]
        }
      ]
    },
    {
      "cell_type": "markdown",
      "source": [
        "サンプルSPARQLの実行と結果の出力：｢インターネットをブラウズする」というアクティ ビティ中のイベントを取得する"
      ],
      "metadata": {
        "id": "Y3TyNm9nA0sg"
      }
    },
    {
      "cell_type": "code",
      "source": [
        "qres = g.query(\n",
        "    \"\"\"\n",
        "PREFIX ex: <http://example.org/virtualhome2kg/instance/>\n",
        "PREFIX vh2kg: <http://example.org/virtualhome2kg/ontology/>\n",
        "select DISTINCT * where {\n",
        "      SERVICE <http://kgrc4si.ml:7200/repositories/KGRC4SIv0> {\n",
        "          ?activity vh2kg:virtualHome ex:scene1 .\n",
        "      }\n",
        "}\n",
        "    \"\"\"\n",
        ")\n",
        "\n",
        "for row in qres:\n",
        "    print(row.activity)"
      ],
      "metadata": {
        "colab": {
          "base_uri": "https://localhost:8080/"
        },
        "id": "t7ye3Zm2A6Eu",
        "outputId": "3bb42ec6-dc21-420a-8076-ed82f1ffbcb4"
      },
      "execution_count": null,
      "outputs": [
        {
          "output_type": "stream",
          "name": "stdout",
          "text": [
            "http://example.org/virtualhome2kg/instance/find_some_food_scene1\n",
            "http://example.org/virtualhome2kg/instance/take_off_clock_scene1\n",
            "http://example.org/virtualhome2kg/instance/carry_box_scene1\n",
            "http://example.org/virtualhome2kg/instance/prepare_sitting_scene1\n",
            "http://example.org/virtualhome2kg/instance/use_smartphone_scene1\n",
            "http://example.org/virtualhome2kg/instance/wash_clothes_scene1\n",
            "http://example.org/virtualhome2kg/instance/wash_pillow_scene1\n",
            "http://example.org/virtualhome2kg/instance/admire_paintings_scene1\n",
            "http://example.org/virtualhome2kg/instance/browse_internet_scene1\n",
            "http://example.org/virtualhome2kg/instance/brush_teeth_scene1\n",
            "http://example.org/virtualhome2kg/instance/clean_desk_scene1\n",
            "http://example.org/virtualhome2kg/instance/drink_scene1\n",
            "http://example.org/virtualhome2kg/instance/go_to_sleep_scene1\n",
            "http://example.org/virtualhome2kg/instance/go_to_toilet_scene1\n",
            "http://example.org/virtualhome2kg/instance/prepare_breakfast_scene1\n",
            "http://example.org/virtualhome2kg/instance/read_book_scene1\n",
            "http://example.org/virtualhome2kg/instance/relax_on_sofa_scene1\n",
            "http://example.org/virtualhome2kg/instance/take_a_nap_scene1\n",
            "http://example.org/virtualhome2kg/instance/wash_hands_scene1\n",
            "http://example.org/virtualhome2kg/instance/watch_tv_scene1\n"
          ]
        }
      ]
    }
  ]
}